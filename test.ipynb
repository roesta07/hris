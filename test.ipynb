{
 "cells": [
  {
   "cell_type": "code",
   "execution_count": 3,
   "id": "34dd6fc5",
   "metadata": {},
   "outputs": [],
   "source": [
    "import numpy as np\n",
    "import pandas as pd\n",
    "from urllib.parse import urlencode,urlparse,parse_qsl\n",
    "from scr.Google import Create_Service\n",
    "from scr.settings import *\n",
    "from googleapiclient.http import MediaIoBaseDownload\n",
    "import datetime as dt\n",
    "from scr.sheet_utils import get_sheets\n",
    "from PIL import Image\n",
    "import io"
   ]
  },
  {
   "cell_type": "code",
   "execution_count": 4,
   "id": "a470f165",
   "metadata": {},
   "outputs": [
    {
     "name": "stdout",
     "output_type": "stream",
     "text": [
      "C:\\Dropbox\\Dropbox\\PTK Nepal\\rojan\\Ptk\\ptk-data\\creds\\client_secret.json-drive-v3-(['https://www.googleapis.com/auth/drive.file', 'https://www.googleapis.com/auth/drive', 'https://www.googleapis.com/auth/drive.file', 'https://www.googleapis.com/auth/drive.metadata'],)\n",
      "['https://www.googleapis.com/auth/drive.file', 'https://www.googleapis.com/auth/drive', 'https://www.googleapis.com/auth/drive.file', 'https://www.googleapis.com/auth/drive.metadata']\n",
      "drive service created successfully\n"
     ]
    }
   ],
   "source": [
    "service=Create_Service(CLIENT_SECRET_FILE,API_NAME,API_VERSION,TOKEN_PATH_DRIVE,SCOPES)"
   ]
  },
  {
   "cell_type": "code",
   "execution_count": 37,
   "id": "184078c9",
   "metadata": {},
   "outputs": [],
   "source": [
    "df_storage=get_sheets(\n",
    "    sheet_filename='Storage_',\n",
    "    work_sheet_name='Sheet1',\n",
    "    TITLE_ROW= 1,\n",
    "    TOKEN_PATH=TOKEN_PATH_SHEETS\n",
    ")"
   ]
  },
  {
   "cell_type": "code",
   "execution_count": 56,
   "id": "6ffd5135",
   "metadata": {},
   "outputs": [],
   "source": [
    "def get_pic_id(x):\n",
    "    try:\n",
    "        id_name=x.split(\"=\")[1]\n",
    "        return id_name\n",
    "    except (IndexError, AttributeError):\n",
    "        return pd.NA\n",
    "\n",
    "def get_fn(x):\n",
    "    fn=x.split(' ')[0]\n",
    "    return fn\n",
    "def get_ln(x):\n",
    "    ln=x.split(' ')[-1]\n",
    "    return ln\n",
    "\n",
    "def get_age(dob):\n",
    "    try:\n",
    "        birth_date=dt.datetime.strptime(dob,'%d/%m/%y')\n",
    "        today=dt.datetime.today()\n",
    "        age_year=((today-birth_date).days)/365\n",
    "        return age_year\n",
    "    except ValueError:\n",
    "        return np.NaN"
   ]
  },
  {
   "cell_type": "code",
   "execution_count": 60,
   "id": "f19b2a4c",
   "metadata": {},
   "outputs": [],
   "source": [
    "filt=df_storage['data-Name']=='' ## remove\n",
    "df_storage=df_storage.loc[~filt]\n",
    "df=pd.DataFrame()"
   ]
  },
  {
   "cell_type": "code",
   "execution_count": 61,
   "id": "8c23bea6",
   "metadata": {},
   "outputs": [],
   "source": [
    "df=df.assign(\n",
    "    id=df_storage['data-meta-instanceID'],\n",
    "    email=df_storage['data-e-mail'].replace({'Unspecified':pd.NA}),\n",
    "    phone=df_storage['data-phone_1_-_Value'].apply(lambda x:'977'+ x if x!='null' else pd.NA),\n",
    "    name=df_storage['data-Name'],\n",
    "    ct=df_storage['data-address_1_-_city'].apply(str.lower).replace({'unspecified':pd.NA}).values,\n",
    "    country='NP',\n",
    "    dob=df_storage['data-Year_of_Birth'],\n",
    "    today=df_storage['data-today'],\n",
    "    photo_id=[get_pic_id(photo) for photo in df_storage['data-photo'].values],\n",
    "    fn=lambda d: d['name'].apply(get_fn),\n",
    "    ln=lambda d: d['name'].apply(get_ln),\n",
    "    age=lambda d: d['dob'].apply(get_age),\n",
    "    lisc=df_storage['data-Driving_License'].replace({\n",
    "        'Unspecified':'idk', 'no':'False', 'category_a__motorcycle_scooter':'A',\n",
    "        'category_a__motorcycle_scooter':'A', 'category_b__car_jeep_delivery':\"B\",\n",
    "        'category_k__scooter__moped':\"K\", '':'idk', 'yes':'True',\n",
    "        'category_a__motorcycle_scooter':\"A\",\n",
    "        'category_a__motorcycle_scooter, no':\"A\",\n",
    "        'category_b__car_jeep_delivery':\"B\",\n",
    "        'category_b__car_jeep_delivery':\"B\", \"category_a__motorcycle_scooter\":\"A\",\n",
    "        'no, category_a__motorcycle_scooter':\"A\",\n",
    "        'category_b__car_jeep_delivery, category_a__motorcycle_scooter':'AB',\n",
    "        'category_a__motorcycle_scooter, category_b__car_jeep_delivery':'AB',\n",
    "})\n",
    ")"
   ]
  },
  {
   "cell_type": "code",
   "execution_count": 62,
   "id": "071c7ae9",
   "metadata": {},
   "outputs": [
    {
     "data": {
      "text/html": [
       "<div>\n",
       "<style scoped>\n",
       "    .dataframe tbody tr th:only-of-type {\n",
       "        vertical-align: middle;\n",
       "    }\n",
       "\n",
       "    .dataframe tbody tr th {\n",
       "        vertical-align: top;\n",
       "    }\n",
       "\n",
       "    .dataframe thead th {\n",
       "        text-align: right;\n",
       "    }\n",
       "</style>\n",
       "<table border=\"1\" class=\"dataframe\">\n",
       "  <thead>\n",
       "    <tr style=\"text-align: right;\">\n",
       "      <th></th>\n",
       "      <th>id</th>\n",
       "      <th>email</th>\n",
       "      <th>phone</th>\n",
       "      <th>name</th>\n",
       "      <th>ct</th>\n",
       "      <th>country</th>\n",
       "      <th>dob</th>\n",
       "      <th>today</th>\n",
       "      <th>photo_id</th>\n",
       "      <th>fn</th>\n",
       "      <th>ln</th>\n",
       "      <th>age</th>\n",
       "      <th>lisc</th>\n",
       "    </tr>\n",
       "  </thead>\n",
       "  <tbody>\n",
       "    <tr>\n",
       "      <th>0</th>\n",
       "      <td></td>\n",
       "      <td>&lt;NA&gt;</td>\n",
       "      <td>9779814300021</td>\n",
       "      <td>Aaliya Saha</td>\n",
       "      <td>biratnagar</td>\n",
       "      <td>NP</td>\n",
       "      <td>null</td>\n",
       "      <td>01/01/19</td>\n",
       "      <td>&lt;NA&gt;</td>\n",
       "      <td>Aaliya</td>\n",
       "      <td>Saha</td>\n",
       "      <td>NaN</td>\n",
       "      <td>idk</td>\n",
       "    </tr>\n",
       "    <tr>\n",
       "      <th>1</th>\n",
       "      <td></td>\n",
       "      <td>&lt;NA&gt;</td>\n",
       "      <td>&lt;NA&gt;</td>\n",
       "      <td>Aarif Poudel</td>\n",
       "      <td>&lt;NA&gt;</td>\n",
       "      <td>NP</td>\n",
       "      <td>null</td>\n",
       "      <td>01/01/19</td>\n",
       "      <td>&lt;NA&gt;</td>\n",
       "      <td>Aarif</td>\n",
       "      <td>Poudel</td>\n",
       "      <td>NaN</td>\n",
       "      <td>idk</td>\n",
       "    </tr>\n",
       "    <tr>\n",
       "      <th>2</th>\n",
       "      <td></td>\n",
       "      <td>&lt;NA&gt;</td>\n",
       "      <td>&lt;NA&gt;</td>\n",
       "      <td>Aaroj Sunuwar</td>\n",
       "      <td>&lt;NA&gt;</td>\n",
       "      <td>NP</td>\n",
       "      <td>null</td>\n",
       "      <td>01/01/19</td>\n",
       "      <td>&lt;NA&gt;</td>\n",
       "      <td>Aaroj</td>\n",
       "      <td>Sunuwar</td>\n",
       "      <td>NaN</td>\n",
       "      <td>idk</td>\n",
       "    </tr>\n",
       "    <tr>\n",
       "      <th>3</th>\n",
       "      <td></td>\n",
       "      <td>&lt;NA&gt;</td>\n",
       "      <td>9779808105714</td>\n",
       "      <td>Aashish Rai</td>\n",
       "      <td>lalitpur</td>\n",
       "      <td>NP</td>\n",
       "      <td>null</td>\n",
       "      <td>01/01/19</td>\n",
       "      <td>&lt;NA&gt;</td>\n",
       "      <td>Aashish</td>\n",
       "      <td>Rai</td>\n",
       "      <td>NaN</td>\n",
       "      <td>idk</td>\n",
       "    </tr>\n",
       "    <tr>\n",
       "      <th>4</th>\n",
       "      <td></td>\n",
       "      <td>&lt;NA&gt;</td>\n",
       "      <td>9779826402287</td>\n",
       "      <td>Aashish Rana Magar</td>\n",
       "      <td>&lt;NA&gt;</td>\n",
       "      <td>NP</td>\n",
       "      <td>null</td>\n",
       "      <td>01/01/19</td>\n",
       "      <td>&lt;NA&gt;</td>\n",
       "      <td>Aashish</td>\n",
       "      <td>Magar</td>\n",
       "      <td>NaN</td>\n",
       "      <td>idk</td>\n",
       "    </tr>\n",
       "  </tbody>\n",
       "</table>\n",
       "</div>"
      ],
      "text/plain": [
       "  id email          phone                name          ct country   dob  \\\n",
       "0     <NA>  9779814300021         Aaliya Saha  biratnagar      NP  null   \n",
       "1     <NA>           <NA>        Aarif Poudel        <NA>      NP  null   \n",
       "2     <NA>           <NA>       Aaroj Sunuwar        <NA>      NP  null   \n",
       "3     <NA>  9779808105714         Aashish Rai    lalitpur      NP  null   \n",
       "4     <NA>  9779826402287  Aashish Rana Magar        <NA>      NP  null   \n",
       "\n",
       "      today photo_id       fn       ln  age lisc  \n",
       "0  01/01/19     <NA>   Aaliya     Saha  NaN  idk  \n",
       "1  01/01/19     <NA>    Aarif   Poudel  NaN  idk  \n",
       "2  01/01/19     <NA>    Aaroj  Sunuwar  NaN  idk  \n",
       "3  01/01/19     <NA>  Aashish      Rai  NaN  idk  \n",
       "4  01/01/19     <NA>  Aashish    Magar  NaN  idk  "
      ]
     },
     "execution_count": 62,
     "metadata": {},
     "output_type": "execute_result"
    }
   ],
   "source": [
    "df.head()"
   ]
  },
  {
   "cell_type": "code",
   "execution_count": 27,
   "id": "348372c8",
   "metadata": {},
   "outputs": [
    {
     "data": {
      "text/plain": [
       "(2033,)"
      ]
     },
     "execution_count": 27,
     "metadata": {},
     "output_type": "execute_result"
    }
   ],
   "source": [
    "np.array(get_age(df_storage['data-Year_of_Birth'])).shape"
   ]
  },
  {
   "cell_type": "code",
   "execution_count": null,
   "id": "6eb4fd0e",
   "metadata": {},
   "outputs": [],
   "source": []
  }
 ],
 "metadata": {
  "kernelspec": {
   "display_name": "Python 3 (ipykernel)",
   "language": "python",
   "name": "python3"
  },
  "language_info": {
   "codemirror_mode": {
    "name": "ipython",
    "version": 3
   },
   "file_extension": ".py",
   "mimetype": "text/x-python",
   "name": "python",
   "nbconvert_exporter": "python",
   "pygments_lexer": "ipython3",
   "version": "3.9.7"
  }
 },
 "nbformat": 4,
 "nbformat_minor": 5
}
