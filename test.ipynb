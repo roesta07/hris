{
 "cells": [
  {
   "cell_type": "code",
   "execution_count": 1,
   "id": "34dd6fc5",
   "metadata": {},
   "outputs": [],
   "source": [
    "import numpy as np\n",
    "import pandas as pd\n",
    "from urllib.parse import urlencode,urlparse,parse_qsl\n",
    "from scr.Google import Create_Service\n",
    "from scr.settings import *\n",
    "from googleapiclient.http import MediaIoBaseDownload\n",
    "import datetime as dt\n",
    "from scr.sheet_utils import get_sheets\n",
    "from PIL import Image\n",
    "import io"
   ]
  },
  {
   "cell_type": "code",
   "execution_count": 2,
   "id": "a470f165",
   "metadata": {},
   "outputs": [
    {
     "name": "stdout",
     "output_type": "stream",
     "text": [
      "C:\\Dropbox\\Dropbox\\PTK Nepal\\rojan\\Ptk\\ptk-data\\creds\\client_secret.json-drive-v3-(['https://www.googleapis.com/auth/drive.file', 'https://www.googleapis.com/auth/drive', 'https://www.googleapis.com/auth/drive.file', 'https://www.googleapis.com/auth/drive.metadata'],)\n",
      "['https://www.googleapis.com/auth/drive.file', 'https://www.googleapis.com/auth/drive', 'https://www.googleapis.com/auth/drive.file', 'https://www.googleapis.com/auth/drive.metadata']\n",
      "refreshing #######\n",
      "drive service created successfully\n"
     ]
    }
   ],
   "source": [
    "service=Create_Service(CLIENT_SECRET_FILE,API_NAME,API_VERSION,TOKEN_PATH_DRIVE,SCOPES)"
   ]
  },
  {
   "cell_type": "code",
   "execution_count": 4,
   "id": "184078c9",
   "metadata": {},
   "outputs": [],
   "source": [
    "df_storage=get_sheets(\n",
    "    sheet_filename='Storage_',\n",
    "    work_sheet_name='Sheet1',\n",
    "    TITLE_ROW= 1,\n",
    "    TOKEN_PATH=TOKEN_PATH_SHEETS\n",
    ")"
   ]
  },
  {
   "cell_type": "code",
   "execution_count": 27,
   "id": "6ffd5135",
   "metadata": {},
   "outputs": [],
   "source": [
    "def get_pic_id(x):\n",
    "    try:\n",
    "        id_name=x.split(\"=\")[1]\n",
    "        return id_name\n",
    "    except (IndexError, AttributeError):\n",
    "        return pd.NA\n",
    "\n",
    "def get_fn(x):\n",
    "    fn=x.split(' ')[0]\n",
    "    return fn\n",
    "def get_ln(x):\n",
    "    ln=x.split(' ')[-1]\n",
    "    return ln\n",
    "\n",
    "def get_age(dob):\n",
    "    try:\n",
    "        birth_date=dt.datetime.strptime(dob,'%d/%m/%y')\n",
    "        today=dt.datetime.today()\n",
    "        age_year=((today-birth_date).days)/365\n",
    "        return age_year\n",
    "    except ValueError:\n",
    "        return np.NaN"
   ]
  },
  {
   "cell_type": "code",
   "execution_count": 36,
   "id": "f19b2a4c",
   "metadata": {},
   "outputs": [],
   "source": [
    "filt=df_storage['data-Name']=='' ## remove\n",
    "df_storage=df_storage.loc[~filt]\n",
    "df=pd.DataFrame()"
   ]
  },
  {
   "cell_type": "code",
   "execution_count": 37,
   "id": "8c23bea6",
   "metadata": {},
   "outputs": [],
   "source": [
    "df=df.assign(\n",
    "    name=df_storage['data-Name'],\n",
    "    gender=df_storage['data-Gender'],\n",
    "    email=df_storage['data-e-mail'].replace({'Unspecified':pd.NA}),\n",
    "    phone=df_storage['data-phone_1_-_Value'].apply(lambda x:'977'+ x if x!='null' else pd.NA),\n",
    "    ct=df_storage['data-address_1_-_city'].apply(str.lower).replace({'unspecified':pd.NA}).values,\n",
    "    country='NP',\n",
    "    rod=pd.to_datetime(df_storage['data-today'],format=\"%d/%m/%y\",errors='coerce'),\n",
    "    dob=df_storage['data-Year_of_Birth'],\n",
    "    today=df_storage['data-today'],\n",
    "    photo_id=[get_pic_id(photo) for photo in df_storage['data-photo'].values],\n",
    "    fn=lambda d: d['name'].apply(get_fn),\n",
    "    ln=lambda d: d['name'].apply(get_ln),\n",
    "    age=lambda d: d['dob'].apply(get_age),\n",
    "    id=df_storage['data-meta-instanceID'],\n",
    "    lisc=df_storage['data-Driving_License'].replace({\n",
    "        'Unspecified':'idk', 'no':'False', 'category_a__motorcycle_scooter':'A',\n",
    "        'category_a__motorcycle_scooter':'A', 'category_b__car_jeep_delivery':\"B\",\n",
    "        'category_k__scooter__moped':\"K\", '':'idk', 'yes':'True',\n",
    "        'category_a__motorcycle_scooter':\"A\",\n",
    "        'category_a__motorcycle_scooter, no':\"A\",\n",
    "        'category_b__car_jeep_delivery':\"B\",\n",
    "        'category_b__car_jeep_delivery':\"B\", \"category_a__motorcycle_scooter\":\"A\",\n",
    "        'no, category_a__motorcycle_scooter':\"A\",\n",
    "        'category_b__car_jeep_delivery, category_a__motorcycle_scooter':'AB',\n",
    "        'category_a__motorcycle_scooter, category_b__car_jeep_delivery':'AB',\n",
    "})\n",
    ")"
   ]
  },
  {
   "cell_type": "code",
   "execution_count": 38,
   "id": "071c7ae9",
   "metadata": {},
   "outputs": [
    {
     "data": {
      "text/html": [
       "<div>\n",
       "<style scoped>\n",
       "    .dataframe tbody tr th:only-of-type {\n",
       "        vertical-align: middle;\n",
       "    }\n",
       "\n",
       "    .dataframe tbody tr th {\n",
       "        vertical-align: top;\n",
       "    }\n",
       "\n",
       "    .dataframe thead th {\n",
       "        text-align: right;\n",
       "    }\n",
       "</style>\n",
       "<table border=\"1\" class=\"dataframe\">\n",
       "  <thead>\n",
       "    <tr style=\"text-align: right;\">\n",
       "      <th></th>\n",
       "      <th>id</th>\n",
       "      <th>email</th>\n",
       "      <th>phone</th>\n",
       "      <th>name</th>\n",
       "      <th>gender</th>\n",
       "      <th>ct</th>\n",
       "      <th>country</th>\n",
       "      <th>rod</th>\n",
       "      <th>dob</th>\n",
       "      <th>today</th>\n",
       "      <th>photo_id</th>\n",
       "      <th>fn</th>\n",
       "      <th>ln</th>\n",
       "      <th>age</th>\n",
       "      <th>lisc</th>\n",
       "    </tr>\n",
       "  </thead>\n",
       "  <tbody>\n",
       "    <tr>\n",
       "      <th>0</th>\n",
       "      <td></td>\n",
       "      <td>&lt;NA&gt;</td>\n",
       "      <td>9779814300021</td>\n",
       "      <td>Aaliya Saha</td>\n",
       "      <td>Female</td>\n",
       "      <td>biratnagar</td>\n",
       "      <td>NP</td>\n",
       "      <td>2019-01-01</td>\n",
       "      <td>null</td>\n",
       "      <td>01/01/19</td>\n",
       "      <td>&lt;NA&gt;</td>\n",
       "      <td>Aaliya</td>\n",
       "      <td>Saha</td>\n",
       "      <td>NaN</td>\n",
       "      <td>idk</td>\n",
       "    </tr>\n",
       "    <tr>\n",
       "      <th>1</th>\n",
       "      <td></td>\n",
       "      <td>&lt;NA&gt;</td>\n",
       "      <td>&lt;NA&gt;</td>\n",
       "      <td>Aarif Poudel</td>\n",
       "      <td>male</td>\n",
       "      <td>&lt;NA&gt;</td>\n",
       "      <td>NP</td>\n",
       "      <td>2019-01-01</td>\n",
       "      <td>null</td>\n",
       "      <td>01/01/19</td>\n",
       "      <td>&lt;NA&gt;</td>\n",
       "      <td>Aarif</td>\n",
       "      <td>Poudel</td>\n",
       "      <td>NaN</td>\n",
       "      <td>idk</td>\n",
       "    </tr>\n",
       "    <tr>\n",
       "      <th>2</th>\n",
       "      <td></td>\n",
       "      <td>&lt;NA&gt;</td>\n",
       "      <td>&lt;NA&gt;</td>\n",
       "      <td>Aaroj Sunuwar</td>\n",
       "      <td>male</td>\n",
       "      <td>&lt;NA&gt;</td>\n",
       "      <td>NP</td>\n",
       "      <td>2019-01-01</td>\n",
       "      <td>null</td>\n",
       "      <td>01/01/19</td>\n",
       "      <td>&lt;NA&gt;</td>\n",
       "      <td>Aaroj</td>\n",
       "      <td>Sunuwar</td>\n",
       "      <td>NaN</td>\n",
       "      <td>idk</td>\n",
       "    </tr>\n",
       "    <tr>\n",
       "      <th>3</th>\n",
       "      <td></td>\n",
       "      <td>&lt;NA&gt;</td>\n",
       "      <td>9779808105714</td>\n",
       "      <td>Aashish Rai</td>\n",
       "      <td>male</td>\n",
       "      <td>lalitpur</td>\n",
       "      <td>NP</td>\n",
       "      <td>2019-01-01</td>\n",
       "      <td>null</td>\n",
       "      <td>01/01/19</td>\n",
       "      <td>&lt;NA&gt;</td>\n",
       "      <td>Aashish</td>\n",
       "      <td>Rai</td>\n",
       "      <td>NaN</td>\n",
       "      <td>idk</td>\n",
       "    </tr>\n",
       "    <tr>\n",
       "      <th>4</th>\n",
       "      <td></td>\n",
       "      <td>&lt;NA&gt;</td>\n",
       "      <td>9779826402287</td>\n",
       "      <td>Aashish Rana Magar</td>\n",
       "      <td>male</td>\n",
       "      <td>&lt;NA&gt;</td>\n",
       "      <td>NP</td>\n",
       "      <td>2019-01-01</td>\n",
       "      <td>null</td>\n",
       "      <td>01/01/19</td>\n",
       "      <td>&lt;NA&gt;</td>\n",
       "      <td>Aashish</td>\n",
       "      <td>Magar</td>\n",
       "      <td>NaN</td>\n",
       "      <td>idk</td>\n",
       "    </tr>\n",
       "  </tbody>\n",
       "</table>\n",
       "</div>"
      ],
      "text/plain": [
       "  id email          phone                name  gender          ct country  \\\n",
       "0     <NA>  9779814300021         Aaliya Saha  Female  biratnagar      NP   \n",
       "1     <NA>           <NA>        Aarif Poudel    male        <NA>      NP   \n",
       "2     <NA>           <NA>       Aaroj Sunuwar    male        <NA>      NP   \n",
       "3     <NA>  9779808105714         Aashish Rai    male    lalitpur      NP   \n",
       "4     <NA>  9779826402287  Aashish Rana Magar    male        <NA>      NP   \n",
       "\n",
       "         rod   dob     today photo_id       fn       ln  age lisc  \n",
       "0 2019-01-01  null  01/01/19     <NA>   Aaliya     Saha  NaN  idk  \n",
       "1 2019-01-01  null  01/01/19     <NA>    Aarif   Poudel  NaN  idk  \n",
       "2 2019-01-01  null  01/01/19     <NA>    Aaroj  Sunuwar  NaN  idk  \n",
       "3 2019-01-01  null  01/01/19     <NA>  Aashish      Rai  NaN  idk  \n",
       "4 2019-01-01  null  01/01/19     <NA>  Aashish    Magar  NaN  idk  "
      ]
     },
     "execution_count": 38,
     "metadata": {},
     "output_type": "execute_result"
    }
   ],
   "source": [
    "df.head()"
   ]
  },
  {
   "cell_type": "code",
   "execution_count": 27,
   "id": "348372c8",
   "metadata": {},
   "outputs": [
    {
     "data": {
      "text/plain": [
       "(2033,)"
      ]
     },
     "execution_count": 27,
     "metadata": {},
     "output_type": "execute_result"
    }
   ],
   "source": [
    "np.array(get_age(df_storage['data-Year_of_Birth'])).shape"
   ]
  },
  {
   "cell_type": "code",
   "execution_count": 6,
   "id": "6eb4fd0e",
   "metadata": {},
   "outputs": [
    {
     "data": {
      "text/plain": [
       "Index(['data-start', 'data-today', 'data-deviceid', 'data-Name',\n",
       "       'data-Year_of_Birth', 'data-Gender', 'data-address_1_-_city',\n",
       "       'data-address_1_-_street', 'data-Permanent_Address_District',\n",
       "       'data-phone_1_-_Value', 'data-phone_2_-_Value',\n",
       "       'data-Secondary_Contact_Person', 'data-phone_3_-_Value', 'data-e-mail',\n",
       "       'data-Short_Introduction', 'data-audio_introduction', 'data-photo',\n",
       "       'data-Driving_License', 'data-Other_License_Categories',\n",
       "       'data-Possession_of_Any_Vehicle', 'data-Vehicle_Type',\n",
       "       'data-Transfer_To', 'data-Reason_for_N_A', 'data-Emcee_Level',\n",
       "       'data-Brand_Promoter_Level', 'data-Model_Promoter_Level',\n",
       "       'data-Helper_Level', 'data-Coordinator_Level',\n",
       "       'data-Flyer_Distributor_level', 'data-Event_Volunteer_level',\n",
       "       'data-Front_Line_Survey_level', 'data-Model_Height', 'data-Notes',\n",
       "       'data-Screened_By', 'data-reference_no', 'data-meta-instanceID'],\n",
       "      dtype='object')"
      ]
     },
     "execution_count": 6,
     "metadata": {},
     "output_type": "execute_result"
    }
   ],
   "source": [
    "df_storage.columns"
   ]
  },
  {
   "cell_type": "code",
   "execution_count": 13,
   "id": "afcefe56",
   "metadata": {},
   "outputs": [
    {
     "ename": "ValueError",
     "evalue": "to assemble mappings requires at least that [year, month, day] be specified: [day,month,year] is missing",
     "output_type": "error",
     "traceback": [
      "\u001b[1;31m---------------------------------------------------------------------------\u001b[0m",
      "\u001b[1;31mValueError\u001b[0m                                Traceback (most recent call last)",
      "\u001b[1;32m~\\AppData\\Local\\Temp/ipykernel_8740/225676508.py\u001b[0m in \u001b[0;36m<module>\u001b[1;34m\u001b[0m\n\u001b[1;32m----> 1\u001b[1;33m \u001b[0mpd\u001b[0m\u001b[1;33m.\u001b[0m\u001b[0mto_datetime\u001b[0m\u001b[1;33m(\u001b[0m\u001b[0mdf_storage\u001b[0m\u001b[1;33m.\u001b[0m\u001b[0mloc\u001b[0m\u001b[1;33m[\u001b[0m\u001b[1;33m:\u001b[0m\u001b[1;33m,\u001b[0m\u001b[1;33m[\u001b[0m\u001b[1;34m'data-start'\u001b[0m\u001b[1;33m]\u001b[0m\u001b[1;33m]\u001b[0m\u001b[1;33m)\u001b[0m\u001b[1;33m\u001b[0m\u001b[1;33m\u001b[0m\u001b[0m\n\u001b[0m",
      "\u001b[1;32m~\\miniconda3\\envs\\genesis\\lib\\site-packages\\pandas\\core\\tools\\datetimes.py\u001b[0m in \u001b[0;36mto_datetime\u001b[1;34m(arg, errors, dayfirst, yearfirst, utc, format, exact, unit, infer_datetime_format, origin, cache)\u001b[0m\n\u001b[0;32m    888\u001b[0m             \u001b[0mresult\u001b[0m \u001b[1;33m=\u001b[0m \u001b[0marg\u001b[0m\u001b[1;33m.\u001b[0m\u001b[0m_constructor\u001b[0m\u001b[1;33m(\u001b[0m\u001b[0mvalues\u001b[0m\u001b[1;33m,\u001b[0m \u001b[0mindex\u001b[0m\u001b[1;33m=\u001b[0m\u001b[0marg\u001b[0m\u001b[1;33m.\u001b[0m\u001b[0mindex\u001b[0m\u001b[1;33m,\u001b[0m \u001b[0mname\u001b[0m\u001b[1;33m=\u001b[0m\u001b[0marg\u001b[0m\u001b[1;33m.\u001b[0m\u001b[0mname\u001b[0m\u001b[1;33m)\u001b[0m\u001b[1;33m\u001b[0m\u001b[1;33m\u001b[0m\u001b[0m\n\u001b[0;32m    889\u001b[0m     \u001b[1;32melif\u001b[0m \u001b[0misinstance\u001b[0m\u001b[1;33m(\u001b[0m\u001b[0marg\u001b[0m\u001b[1;33m,\u001b[0m \u001b[1;33m(\u001b[0m\u001b[0mABCDataFrame\u001b[0m\u001b[1;33m,\u001b[0m \u001b[0mabc\u001b[0m\u001b[1;33m.\u001b[0m\u001b[0mMutableMapping\u001b[0m\u001b[1;33m)\u001b[0m\u001b[1;33m)\u001b[0m\u001b[1;33m:\u001b[0m\u001b[1;33m\u001b[0m\u001b[1;33m\u001b[0m\u001b[0m\n\u001b[1;32m--> 890\u001b[1;33m         \u001b[0mresult\u001b[0m \u001b[1;33m=\u001b[0m \u001b[0m_assemble_from_unit_mappings\u001b[0m\u001b[1;33m(\u001b[0m\u001b[0marg\u001b[0m\u001b[1;33m,\u001b[0m \u001b[0merrors\u001b[0m\u001b[1;33m,\u001b[0m \u001b[0mtz\u001b[0m\u001b[1;33m)\u001b[0m\u001b[1;33m\u001b[0m\u001b[1;33m\u001b[0m\u001b[0m\n\u001b[0m\u001b[0;32m    891\u001b[0m     \u001b[1;32melif\u001b[0m \u001b[0misinstance\u001b[0m\u001b[1;33m(\u001b[0m\u001b[0marg\u001b[0m\u001b[1;33m,\u001b[0m \u001b[0mIndex\u001b[0m\u001b[1;33m)\u001b[0m\u001b[1;33m:\u001b[0m\u001b[1;33m\u001b[0m\u001b[1;33m\u001b[0m\u001b[0m\n\u001b[0;32m    892\u001b[0m         \u001b[0mcache_array\u001b[0m \u001b[1;33m=\u001b[0m \u001b[0m_maybe_cache\u001b[0m\u001b[1;33m(\u001b[0m\u001b[0marg\u001b[0m\u001b[1;33m,\u001b[0m \u001b[0mformat\u001b[0m\u001b[1;33m,\u001b[0m \u001b[0mcache\u001b[0m\u001b[1;33m,\u001b[0m \u001b[0mconvert_listlike\u001b[0m\u001b[1;33m)\u001b[0m\u001b[1;33m\u001b[0m\u001b[1;33m\u001b[0m\u001b[0m\n",
      "\u001b[1;32m~\\miniconda3\\envs\\genesis\\lib\\site-packages\\pandas\\core\\tools\\datetimes.py\u001b[0m in \u001b[0;36m_assemble_from_unit_mappings\u001b[1;34m(arg, errors, tz)\u001b[0m\n\u001b[0;32m    994\u001b[0m     \u001b[1;32mif\u001b[0m \u001b[0mlen\u001b[0m\u001b[1;33m(\u001b[0m\u001b[0mreq\u001b[0m\u001b[1;33m)\u001b[0m\u001b[1;33m:\u001b[0m\u001b[1;33m\u001b[0m\u001b[1;33m\u001b[0m\u001b[0m\n\u001b[0;32m    995\u001b[0m         \u001b[0m_required\u001b[0m \u001b[1;33m=\u001b[0m \u001b[1;34m\",\"\u001b[0m\u001b[1;33m.\u001b[0m\u001b[0mjoin\u001b[0m\u001b[1;33m(\u001b[0m\u001b[0mreq\u001b[0m\u001b[1;33m)\u001b[0m\u001b[1;33m\u001b[0m\u001b[1;33m\u001b[0m\u001b[0m\n\u001b[1;32m--> 996\u001b[1;33m         raise ValueError(\n\u001b[0m\u001b[0;32m    997\u001b[0m             \u001b[1;34m\"to assemble mappings requires at least that \"\u001b[0m\u001b[1;33m\u001b[0m\u001b[1;33m\u001b[0m\u001b[0m\n\u001b[0;32m    998\u001b[0m             \u001b[1;34mf\"[year, month, day] be specified: [{_required}] is missing\"\u001b[0m\u001b[1;33m\u001b[0m\u001b[1;33m\u001b[0m\u001b[0m\n",
      "\u001b[1;31mValueError\u001b[0m: to assemble mappings requires at least that [year, month, day] be specified: [day,month,year] is missing"
     ]
    }
   ],
   "source": [
    "pd.to_datetime(df_storage.loc[:,['data-start']],format=\"\")"
   ]
  },
  {
   "cell_type": "code",
   "execution_count": 35,
   "id": "8d7e869b",
   "metadata": {},
   "outputs": [
    {
     "ename": "NameError",
     "evalue": "name 'data_storage' is not defined",
     "output_type": "error",
     "traceback": [
      "\u001b[1;31m---------------------------------------------------------------------------\u001b[0m",
      "\u001b[1;31mNameError\u001b[0m                                 Traceback (most recent call last)",
      "\u001b[1;32m~\\AppData\\Local\\Temp/ipykernel_8740/4106633760.py\u001b[0m in \u001b[0;36m<module>\u001b[1;34m\u001b[0m\n\u001b[1;32m----> 1\u001b[1;33m \u001b[0mdata_storage\u001b[0m\u001b[1;33m[\u001b[0m\u001b[1;34m'data-Gender'\u001b[0m\u001b[1;33m]\u001b[0m\u001b[1;33m\u001b[0m\u001b[1;33m\u001b[0m\u001b[0m\n\u001b[0m",
      "\u001b[1;31mNameError\u001b[0m: name 'data_storage' is not defined"
     ]
    }
   ],
   "source": [
    "data_storage['data-Gender']"
   ]
  },
  {
   "cell_type": "code",
   "execution_count": null,
   "id": "f0d928d9",
   "metadata": {},
   "outputs": [],
   "source": []
  }
 ],
 "metadata": {
  "kernelspec": {
   "display_name": "Python 3 (ipykernel)",
   "language": "python",
   "name": "python3"
  },
  "language_info": {
   "codemirror_mode": {
    "name": "ipython",
    "version": 3
   },
   "file_extension": ".py",
   "mimetype": "text/x-python",
   "name": "python",
   "nbconvert_exporter": "python",
   "pygments_lexer": "ipython3",
   "version": "3.9.7"
  }
 },
 "nbformat": 4,
 "nbformat_minor": 5
}
